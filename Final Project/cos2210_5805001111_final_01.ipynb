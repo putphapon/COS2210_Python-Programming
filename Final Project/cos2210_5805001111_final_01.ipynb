{
 "cells": [
  {
   "cell_type": "code",
   "execution_count": 1,
   "metadata": {
    "colab": {
     "base_uri": "https://localhost:8080/",
     "height": 482
    },
    "executionInfo": {
     "elapsed": 349,
     "status": "error",
     "timestamp": 1627299494990,
     "user": {
      "displayName": "Put Phapon",
      "photoUrl": "https://lh3.googleusercontent.com/a-/AOh14GhHu2Bg12yZEmf0P3MktP9VgcVkekVGmkL5EsJbLg=s64",
      "userId": "12424718757334212280"
     },
     "user_tz": -420
    },
    "id": "GSwuN5DG_4nM",
    "outputId": "331dbb94-f135-4cbf-b2bb-66b391d5c7c8"
   },
   "outputs": [],
   "source": [
    "import struct\n",
    "import wave\n",
    "import os\n",
    "import time\n",
    "import tkinter\n",
    "\n",
    "import pyaudio\n",
    "import numpy as np\n",
    "import matplotlib.pyplot as plt\n",
    "\n",
    "%matplotlib tk"
   ]
  },
  {
   "cell_type": "code",
   "execution_count": 2,
   "metadata": {},
   "outputs": [],
   "source": [
    "CHUNK = 1024 * 4\n",
    "FORMAT = pyaudio.paInt16\n",
    "CHANNELS = 1\n",
    "RATE = 44100"
   ]
  },
  {
   "cell_type": "code",
   "execution_count": 3,
   "metadata": {
    "id": "K4-VFfjze2dg"
   },
   "outputs": [],
   "source": [
    "def wave_recording():    \n",
    "    p = pyaudio.PyAudio()\n",
    "\n",
    "    stream = p.open(\n",
    "        format=FORMAT,\n",
    "        channels=CHANNELS,\n",
    "        rate=RATE,\n",
    "        input=True,\n",
    "        output=True,\n",
    "        frames_per_buffer=CHUNK\n",
    "    )\n",
    "    \n",
    "    fig, ax = plt.subplots(1, figsize=(10, 2))\n",
    "    x = np.arange(0, CHUNK)\n",
    "    line, = ax.plot(x, np.random.rand(CHUNK))\n",
    "\n",
    "    ax.set_xlabel('samples')\n",
    "    ax.set_ylabel('volume')\n",
    "    ax.set_ylim(0, 255)\n",
    "    ax.set_xlim(0,  CHUNK)\n",
    "    plt.setp(ax, xticks=[0, CHUNK//2, CHUNK], yticks=[0, 128, 255])\n",
    "\n",
    "    frames = []\n",
    "    print(\"Recording ...\")\n",
    "    \n",
    "    while True:\n",
    "        data = stream.read(CHUNK) \n",
    "        frames.append(data)\n",
    "\n",
    "        data_int = struct.unpack(str(len(data)) + 'B', data)\n",
    "        data_np = np.array(data_int, dtype='B')[::2]+ 127\n",
    "\n",
    "        line.set_ydata(data_np)\n",
    "\n",
    "        try:\n",
    "            fig.canvas.draw()\n",
    "            fig.canvas.flush_events()\n",
    "\n",
    "        except tkinter.TclError:\n",
    "            stream.stop_stream()\n",
    "            stream.close()\n",
    "            p.terminate()\n",
    "            break\n",
    "\n",
    "    print(\"Done Recording\")\n",
    "\n",
    "    if not os.path.exists('Output'):\n",
    "        os.mkdir('Output')\n",
    "    WAVE_OUTPUT_FILENAME = 'Output' + str(time.time_ns())+'.wav'\n",
    "    print(\"File : \", WAVE_OUTPUT_FILENAME)\n",
    "\n",
    "    wf = wave.open(WAVE_OUTPUT_FILENAME, 'wb')\n",
    "    wf.setnchannels(CHANNELS)\n",
    "    wf.setsampwidth(p.get_sample_size(FORMAT))\n",
    "    wf.setframerate(RATE)\n",
    "    wf.writeframes(b''.join(frames))\n",
    "    wf.close()"
   ]
  },
  {
   "cell_type": "code",
   "execution_count": 4,
   "metadata": {},
   "outputs": [
    {
     "name": "stdout",
     "output_type": "stream",
     "text": [
      "Recording ...\n",
      "Done Recording\n",
      "File :  1627733045771035100.wav\n"
     ]
    }
   ],
   "source": [
    "wave_recording()"
   ]
  },
  {
   "cell_type": "code",
   "execution_count": null,
   "metadata": {},
   "outputs": [],
   "source": []
  }
 ],
 "metadata": {
  "colab": {
   "name": "cos2210_5805001111_final_01.ipynb",
   "provenance": []
  },
  "interpreter": {
   "hash": "a6b0585b8592bad31e3fc1b9f7b7e34fbef2cf4dcbd9000f913bf867078579cf"
  },
  "kernelspec": {
   "display_name": "Python 3",
   "language": "python",
   "name": "python3"
  },
  "language_info": {
   "codemirror_mode": {
    "name": "ipython",
    "version": 3
   },
   "file_extension": ".py",
   "mimetype": "text/x-python",
   "name": "python",
   "nbconvert_exporter": "python",
   "pygments_lexer": "ipython3",
   "version": "3.7.10"
  }
 },
 "nbformat": 4,
 "nbformat_minor": 1
}
